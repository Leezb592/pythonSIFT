{
 "metadata": {
  "language_info": {
   "codemirror_mode": {
    "name": "ipython",
    "version": 3
   },
   "file_extension": ".py",
   "mimetype": "text/x-python",
   "name": "python",
   "nbconvert_exporter": "python",
   "pygments_lexer": "ipython3",
   "version": "3.6.12-final"
  },
  "orig_nbformat": 2,
  "kernelspec": {
   "name": "Python 3.6.12 64-bit ('36torch': conda)",
   "display_name": "Python 3.6.12 64-bit ('36torch': conda)",
   "metadata": {
    "interpreter": {
     "hash": "74c773b3cb9e96d57b0e2e0a44211d2cb96541877afb1d6611d1e0d2a7a0a6e4"
    }
   }
  }
 },
 "nbformat": 4,
 "nbformat_minor": 2,
 "cells": [
  {
   "cell_type": "code",
   "execution_count": 77,
   "metadata": {},
   "outputs": [
    {
     "output_type": "stream",
     "name": "stdout",
     "text": [
      "Overwriting train.py\n"
     ]
    }
   ],
   "source": [
    "\n",
    "import cv2 as cv\n",
    "import matplotlib.pyplot as plt \n",
    "%matplotlib inline\n",
    "import numpy as np \n",
    "import os\n",
    "os.path\n",
    "os.chdir('E:\\pycharmfile\\opencv')\n"
   ]
  },
  {
   "cell_type": "code",
   "execution_count": 78,
   "metadata": {},
   "outputs": [
    {
     "output_type": "stream",
     "name": "stdout",
     "text": [
      "Overwriting train.py\n"
     ]
    }
   ],
   "source": [
    "\n",
    "\n",
    "def mkG(img,n):\n",
    "   # 制造高斯空间 \n",
    "    Gspace=[]\n",
    "    g=img.copy()\n",
    "    Gspace.append(g)\n",
    "    for i in range(n):\n",
    "        g = cv.pyrDown(g)\n",
    "        Gspace.append(g)\n",
    "    return Gspace"
   ]
  },
  {
   "cell_type": "code",
   "execution_count": 79,
   "metadata": {},
   "outputs": [],
   "source": [
    "def mkDOG(img,segma,n):\n",
    "    #制造dog空间\n",
    "    DOGspace=[]\n",
    "    old_g=img.copy()\n",
    "    for i in range(n):\n",
    "        g=img.copy()\n",
    "        m = int(2*segma*(i+1)+1)\n",
    "        g = cv.GaussianBlur(img,(m,1),0)\n",
    "        g = cv.GaussianBlur(img,(1,m),0)\n",
    "        DOGspace.append( g - old_g )\n",
    "        old_g = g\n",
    "    return DOGspace\n",
    "\n",
    "    "
   ]
  },
  {
   "cell_type": "code",
   "execution_count": 80,
   "metadata": {},
   "outputs": [],
   "source": [
    "def FindKeypoint(space):\n",
    "    #寻找关键点\n",
    "    Keypoint = []\n",
    "    shape=[len(space),len(space[0]),len(space[0][0])]\n",
    "    for i in range(shape[0]):\n",
    "        for j in range(shape[1]):\n",
    "            for k in range(shape[2]):\n",
    "                if ifkeypoint(i,j,k,space,shape):\n",
    "                    Keypoint.append([i,j,k])\n",
    "    return Keypoint\n"
   ]
  },
  {
   "cell_type": "code",
   "execution_count": 81,
   "metadata": {},
   "outputs": [],
   "source": [
    "def ifkeypoint(i,j,k,space,shape):\n",
    "    if i==0 or j==0 or k==0 or i==shape[0] or j== shape[1]-1 or k== shape[2]-1:\n",
    "        return False\n",
    "    dx=[0,1,-1]\n",
    "    dy=[0,1,-1]\n",
    "    dz=[0,1,-1]\n",
    "    flag=0\n",
    "    dnow=space[i][j][k]\n",
    "    for ix in range(3):\n",
    "        for iy in range(3):\n",
    "            for iz in range(3):\n",
    "                if flag==0 :\n",
    "                    flag=1\n",
    "                    continue\n",
    "                if space[i+dx[ix]][j+dy[iy]][k+dz[iz]] > dnow :\n",
    "                    return False\n",
    "    return True\n"
   ]
  },
  {
   "cell_type": "code",
   "execution_count": 82,
   "metadata": {},
   "outputs": [],
   "source": [
    "\n",
    "def showpic(img):\n",
    "    cv.imshow('image',img)\n",
    "    cv.waitKey(0)\n",
    "    cv.destroyAllWindows()"
   ]
  },
  {
   "cell_type": "code",
   "execution_count": 83,
   "metadata": {},
   "outputs": [],
   "source": [
    "def showpoint(Keypoint,img):\n",
    "    g = img.copy()\n",
    "    for point in Keypoint:\n",
    "        cv.circle(g,(point[1],point[2]), 30, (0,0,255), 3)\n",
    "    showpic(g)"
   ]
  },
  {
   "cell_type": "code",
   "execution_count": 84,
   "metadata": {},
   "outputs": [],
   "source": [
    "def text():\n",
    "    img=cv.imread('cat.jpg')\n",
    "    Gspace = mkG(img,5)\n",
    "    G_DOGspace = []\n",
    "    for pic in Gspace:\n",
    "        DOGspace=mkDOG(pic,1,5)\n",
    "        G_DOGspace.append(DOGspace)\n",
    "    Keypoint = FindKeypoint(G_DOGspace)\n",
    "    showpoint(Keypoint,img)"
   ]
  },
  {
   "cell_type": "code",
   "execution_count": 85,
   "metadata": {},
   "outputs": [
    {
     "output_type": "error",
     "ename": "ValueError",
     "evalue": "The truth value of an array with more than one element is ambiguous. Use a.any() or a.all()",
     "traceback": [
      "\u001b[1;31m---------------------------------------------------------------------------\u001b[0m",
      "\u001b[1;31mValueError\u001b[0m                                Traceback (most recent call last)",
      "\u001b[1;32m<ipython-input-85-07be4e2d1c64>\u001b[0m in \u001b[0;36m<module>\u001b[1;34m\u001b[0m\n\u001b[1;32m----> 1\u001b[1;33m \u001b[0mtext\u001b[0m\u001b[1;33m(\u001b[0m\u001b[1;33m)\u001b[0m\u001b[1;33m\u001b[0m\u001b[1;33m\u001b[0m\u001b[0m\n\u001b[0m",
      "\u001b[1;32m<ipython-input-84-ae32c84a16a0>\u001b[0m in \u001b[0;36mtext\u001b[1;34m()\u001b[0m\n\u001b[0;32m      6\u001b[0m         \u001b[0mDOGspace\u001b[0m\u001b[1;33m=\u001b[0m\u001b[0mmkDOG\u001b[0m\u001b[1;33m(\u001b[0m\u001b[0mpic\u001b[0m\u001b[1;33m,\u001b[0m\u001b[1;36m1\u001b[0m\u001b[1;33m,\u001b[0m\u001b[1;36m5\u001b[0m\u001b[1;33m)\u001b[0m\u001b[1;33m\u001b[0m\u001b[1;33m\u001b[0m\u001b[0m\n\u001b[0;32m      7\u001b[0m         \u001b[0mG_DOGspace\u001b[0m\u001b[1;33m.\u001b[0m\u001b[0mappend\u001b[0m\u001b[1;33m(\u001b[0m\u001b[0mDOGspace\u001b[0m\u001b[1;33m)\u001b[0m\u001b[1;33m\u001b[0m\u001b[1;33m\u001b[0m\u001b[0m\n\u001b[1;32m----> 8\u001b[1;33m     \u001b[0mKeypoint\u001b[0m \u001b[1;33m=\u001b[0m \u001b[0mFindKeypoint\u001b[0m\u001b[1;33m(\u001b[0m\u001b[0mG_DOGspace\u001b[0m\u001b[1;33m)\u001b[0m\u001b[1;33m\u001b[0m\u001b[1;33m\u001b[0m\u001b[0m\n\u001b[0m\u001b[0;32m      9\u001b[0m     \u001b[0mshowpoint\u001b[0m\u001b[1;33m(\u001b[0m\u001b[0mKeypoint\u001b[0m\u001b[1;33m,\u001b[0m\u001b[0mimg\u001b[0m\u001b[1;33m)\u001b[0m\u001b[1;33m\u001b[0m\u001b[1;33m\u001b[0m\u001b[0m\n",
      "\u001b[1;32m<ipython-input-80-2c8a1341b823>\u001b[0m in \u001b[0;36mFindKeypoint\u001b[1;34m(space)\u001b[0m\n\u001b[0;32m      6\u001b[0m         \u001b[1;32mfor\u001b[0m \u001b[0mj\u001b[0m \u001b[1;32min\u001b[0m \u001b[0mrange\u001b[0m\u001b[1;33m(\u001b[0m\u001b[0mshape\u001b[0m\u001b[1;33m[\u001b[0m\u001b[1;36m1\u001b[0m\u001b[1;33m]\u001b[0m\u001b[1;33m)\u001b[0m\u001b[1;33m:\u001b[0m\u001b[1;33m\u001b[0m\u001b[1;33m\u001b[0m\u001b[0m\n\u001b[0;32m      7\u001b[0m             \u001b[1;32mfor\u001b[0m \u001b[0mk\u001b[0m \u001b[1;32min\u001b[0m \u001b[0mrange\u001b[0m\u001b[1;33m(\u001b[0m\u001b[0mshape\u001b[0m\u001b[1;33m[\u001b[0m\u001b[1;36m2\u001b[0m\u001b[1;33m]\u001b[0m\u001b[1;33m)\u001b[0m\u001b[1;33m:\u001b[0m\u001b[1;33m\u001b[0m\u001b[1;33m\u001b[0m\u001b[0m\n\u001b[1;32m----> 8\u001b[1;33m                 \u001b[1;32mif\u001b[0m \u001b[0mifkeypoint\u001b[0m\u001b[1;33m(\u001b[0m\u001b[0mi\u001b[0m\u001b[1;33m,\u001b[0m\u001b[0mj\u001b[0m\u001b[1;33m,\u001b[0m\u001b[0mk\u001b[0m\u001b[1;33m,\u001b[0m\u001b[0mspace\u001b[0m\u001b[1;33m,\u001b[0m\u001b[0mshape\u001b[0m\u001b[1;33m)\u001b[0m\u001b[1;33m:\u001b[0m\u001b[1;33m\u001b[0m\u001b[1;33m\u001b[0m\u001b[0m\n\u001b[0m\u001b[0;32m      9\u001b[0m                     \u001b[0mKeypoint\u001b[0m\u001b[1;33m.\u001b[0m\u001b[0mappend\u001b[0m\u001b[1;33m(\u001b[0m\u001b[1;33m[\u001b[0m\u001b[0mi\u001b[0m\u001b[1;33m,\u001b[0m\u001b[0mj\u001b[0m\u001b[1;33m,\u001b[0m\u001b[0mk\u001b[0m\u001b[1;33m]\u001b[0m\u001b[1;33m)\u001b[0m\u001b[1;33m\u001b[0m\u001b[1;33m\u001b[0m\u001b[0m\n\u001b[0;32m     10\u001b[0m     \u001b[1;32mreturn\u001b[0m \u001b[0mKeypoint\u001b[0m\u001b[1;33m\u001b[0m\u001b[1;33m\u001b[0m\u001b[0m\n",
      "\u001b[1;32m<ipython-input-81-b533571efffa>\u001b[0m in \u001b[0;36mifkeypoint\u001b[1;34m(i, j, k, space, shape)\u001b[0m\n\u001b[0;32m     13\u001b[0m                     \u001b[0mflag\u001b[0m\u001b[1;33m=\u001b[0m\u001b[1;36m1\u001b[0m\u001b[1;33m\u001b[0m\u001b[1;33m\u001b[0m\u001b[0m\n\u001b[0;32m     14\u001b[0m                     \u001b[1;32mcontinue\u001b[0m\u001b[1;33m\u001b[0m\u001b[1;33m\u001b[0m\u001b[0m\n\u001b[1;32m---> 15\u001b[1;33m                 \u001b[1;32mif\u001b[0m \u001b[0mspace\u001b[0m\u001b[1;33m[\u001b[0m\u001b[0mi\u001b[0m\u001b[1;33m+\u001b[0m\u001b[0mdx\u001b[0m\u001b[1;33m[\u001b[0m\u001b[0mix\u001b[0m\u001b[1;33m]\u001b[0m\u001b[1;33m]\u001b[0m\u001b[1;33m[\u001b[0m\u001b[0mj\u001b[0m\u001b[1;33m+\u001b[0m\u001b[0mdy\u001b[0m\u001b[1;33m[\u001b[0m\u001b[0miy\u001b[0m\u001b[1;33m]\u001b[0m\u001b[1;33m]\u001b[0m\u001b[1;33m[\u001b[0m\u001b[0mk\u001b[0m\u001b[1;33m+\u001b[0m\u001b[0mdz\u001b[0m\u001b[1;33m[\u001b[0m\u001b[0miz\u001b[0m\u001b[1;33m]\u001b[0m\u001b[1;33m]\u001b[0m \u001b[1;33m>\u001b[0m \u001b[0mdnow\u001b[0m \u001b[1;33m:\u001b[0m\u001b[1;33m\u001b[0m\u001b[1;33m\u001b[0m\u001b[0m\n\u001b[0m\u001b[0;32m     16\u001b[0m                     \u001b[1;32mreturn\u001b[0m \u001b[1;32mFalse\u001b[0m\u001b[1;33m\u001b[0m\u001b[1;33m\u001b[0m\u001b[0m\n\u001b[0;32m     17\u001b[0m     \u001b[1;32mreturn\u001b[0m \u001b[1;32mTrue\u001b[0m\u001b[1;33m\u001b[0m\u001b[1;33m\u001b[0m\u001b[0m\n",
      "\u001b[1;31mValueError\u001b[0m: The truth value of an array with more than one element is ambiguous. Use a.any() or a.all()"
     ]
    }
   ],
   "source": [
    "text()"
   ]
  },
  {
   "cell_type": "code",
   "execution_count": null,
   "metadata": {},
   "outputs": [],
   "source": []
  }
 ]
}